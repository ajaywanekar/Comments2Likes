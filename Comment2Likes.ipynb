{
 "cells": [
  {
   "cell_type": "code",
   "execution_count": 1,
   "id": "b1b8d446",
   "metadata": {},
   "outputs": [],
   "source": [
    "import pandas as pd\n",
    "import numpy as np\n",
    "import matplotlib as plt\n",
    "import seaborn as sns\n",
    "from sklearn.model_selection import train_test_split\n",
    "from sklearn.linear_model import LinearRegression"
   ]
  },
  {
   "cell_type": "code",
   "execution_count": null,
   "id": "5b27aa40",
   "metadata": {},
   "outputs": [],
   "source": []
  },
  {
   "cell_type": "markdown",
   "id": "bb034278",
   "metadata": {},
   "source": [
    "# Data Importing and Cleaning"
   ]
  },
  {
   "cell_type": "code",
   "execution_count": 60,
   "id": "c14c10b6",
   "metadata": {},
   "outputs": [
    {
     "data": {
      "text/html": [
       "<div>\n",
       "<style scoped>\n",
       "    .dataframe tbody tr th:only-of-type {\n",
       "        vertical-align: middle;\n",
       "    }\n",
       "\n",
       "    .dataframe tbody tr th {\n",
       "        vertical-align: top;\n",
       "    }\n",
       "\n",
       "    .dataframe thead th {\n",
       "        text-align: right;\n",
       "    }\n",
       "</style>\n",
       "<table border=\"1\" class=\"dataframe\">\n",
       "  <thead>\n",
       "    <tr style=\"text-align: right;\">\n",
       "      <th></th>\n",
       "      <th>Unnamed: 0</th>\n",
       "      <th>Video ID</th>\n",
       "      <th>Comment</th>\n",
       "      <th>Likes</th>\n",
       "      <th>Sentiment</th>\n",
       "    </tr>\n",
       "  </thead>\n",
       "  <tbody>\n",
       "    <tr>\n",
       "      <th>0</th>\n",
       "      <td>0</td>\n",
       "      <td>wAZZ-UWGVHI</td>\n",
       "      <td>Let's not forget that Apple Pay in 2014 requir...</td>\n",
       "      <td>95.0</td>\n",
       "      <td>1.0</td>\n",
       "    </tr>\n",
       "    <tr>\n",
       "      <th>1</th>\n",
       "      <td>1</td>\n",
       "      <td>wAZZ-UWGVHI</td>\n",
       "      <td>Here in NZ 50% of retailers don’t even have co...</td>\n",
       "      <td>19.0</td>\n",
       "      <td>0.0</td>\n",
       "    </tr>\n",
       "    <tr>\n",
       "      <th>2</th>\n",
       "      <td>2</td>\n",
       "      <td>wAZZ-UWGVHI</td>\n",
       "      <td>I will forever acknowledge this channel with t...</td>\n",
       "      <td>161.0</td>\n",
       "      <td>2.0</td>\n",
       "    </tr>\n",
       "    <tr>\n",
       "      <th>3</th>\n",
       "      <td>3</td>\n",
       "      <td>wAZZ-UWGVHI</td>\n",
       "      <td>Whenever I go to a place that doesn’t take App...</td>\n",
       "      <td>8.0</td>\n",
       "      <td>0.0</td>\n",
       "    </tr>\n",
       "    <tr>\n",
       "      <th>4</th>\n",
       "      <td>4</td>\n",
       "      <td>wAZZ-UWGVHI</td>\n",
       "      <td>Apple Pay is so convenient, secure, and easy t...</td>\n",
       "      <td>34.0</td>\n",
       "      <td>2.0</td>\n",
       "    </tr>\n",
       "  </tbody>\n",
       "</table>\n",
       "</div>"
      ],
      "text/plain": [
       "   Unnamed: 0     Video ID                                            Comment  \\\n",
       "0           0  wAZZ-UWGVHI  Let's not forget that Apple Pay in 2014 requir...   \n",
       "1           1  wAZZ-UWGVHI  Here in NZ 50% of retailers don’t even have co...   \n",
       "2           2  wAZZ-UWGVHI  I will forever acknowledge this channel with t...   \n",
       "3           3  wAZZ-UWGVHI  Whenever I go to a place that doesn’t take App...   \n",
       "4           4  wAZZ-UWGVHI  Apple Pay is so convenient, secure, and easy t...   \n",
       "\n",
       "   Likes  Sentiment  \n",
       "0   95.0        1.0  \n",
       "1   19.0        0.0  \n",
       "2  161.0        2.0  \n",
       "3    8.0        0.0  \n",
       "4   34.0        2.0  "
      ]
     },
     "execution_count": 60,
     "metadata": {},
     "output_type": "execute_result"
    }
   ],
   "source": [
    "df = pd.read_csv(\"comments.csv\")\n",
    "df.head()"
   ]
  },
  {
   "cell_type": "code",
   "execution_count": 3,
   "id": "e3ba1649",
   "metadata": {},
   "outputs": [
    {
     "name": "stdout",
     "output_type": "stream",
     "text": [
      "<class 'pandas.core.frame.DataFrame'>\n",
      "RangeIndex: 18409 entries, 0 to 18408\n",
      "Data columns (total 5 columns):\n",
      " #   Column      Non-Null Count  Dtype  \n",
      "---  ------      --------------  -----  \n",
      " 0   Unnamed: 0  18409 non-null  int64  \n",
      " 1   Video ID    18409 non-null  object \n",
      " 2   Comment     18408 non-null  object \n",
      " 3   Likes       18409 non-null  float64\n",
      " 4   Sentiment   18409 non-null  float64\n",
      "dtypes: float64(2), int64(1), object(2)\n",
      "memory usage: 719.2+ KB\n"
     ]
    }
   ],
   "source": [
    "df.info()"
   ]
  },
  {
   "cell_type": "code",
   "execution_count": 4,
   "id": "2bca8c29",
   "metadata": {},
   "outputs": [
    {
     "data": {
      "text/html": [
       "<div>\n",
       "<style scoped>\n",
       "    .dataframe tbody tr th:only-of-type {\n",
       "        vertical-align: middle;\n",
       "    }\n",
       "\n",
       "    .dataframe tbody tr th {\n",
       "        vertical-align: top;\n",
       "    }\n",
       "\n",
       "    .dataframe thead th {\n",
       "        text-align: right;\n",
       "    }\n",
       "</style>\n",
       "<table border=\"1\" class=\"dataframe\">\n",
       "  <thead>\n",
       "    <tr style=\"text-align: right;\">\n",
       "      <th></th>\n",
       "      <th>Unnamed: 0</th>\n",
       "      <th>Video ID</th>\n",
       "      <th>Comment</th>\n",
       "      <th>Likes</th>\n",
       "      <th>Sentiment</th>\n",
       "    </tr>\n",
       "  </thead>\n",
       "  <tbody>\n",
       "    <tr>\n",
       "      <th>0</th>\n",
       "      <td>False</td>\n",
       "      <td>False</td>\n",
       "      <td>False</td>\n",
       "      <td>False</td>\n",
       "      <td>False</td>\n",
       "    </tr>\n",
       "    <tr>\n",
       "      <th>1</th>\n",
       "      <td>False</td>\n",
       "      <td>False</td>\n",
       "      <td>False</td>\n",
       "      <td>False</td>\n",
       "      <td>False</td>\n",
       "    </tr>\n",
       "    <tr>\n",
       "      <th>2</th>\n",
       "      <td>False</td>\n",
       "      <td>False</td>\n",
       "      <td>False</td>\n",
       "      <td>False</td>\n",
       "      <td>False</td>\n",
       "    </tr>\n",
       "    <tr>\n",
       "      <th>3</th>\n",
       "      <td>False</td>\n",
       "      <td>False</td>\n",
       "      <td>False</td>\n",
       "      <td>False</td>\n",
       "      <td>False</td>\n",
       "    </tr>\n",
       "    <tr>\n",
       "      <th>4</th>\n",
       "      <td>False</td>\n",
       "      <td>False</td>\n",
       "      <td>False</td>\n",
       "      <td>False</td>\n",
       "      <td>False</td>\n",
       "    </tr>\n",
       "    <tr>\n",
       "      <th>...</th>\n",
       "      <td>...</td>\n",
       "      <td>...</td>\n",
       "      <td>...</td>\n",
       "      <td>...</td>\n",
       "      <td>...</td>\n",
       "    </tr>\n",
       "    <tr>\n",
       "      <th>18404</th>\n",
       "      <td>False</td>\n",
       "      <td>False</td>\n",
       "      <td>False</td>\n",
       "      <td>False</td>\n",
       "      <td>False</td>\n",
       "    </tr>\n",
       "    <tr>\n",
       "      <th>18405</th>\n",
       "      <td>False</td>\n",
       "      <td>False</td>\n",
       "      <td>False</td>\n",
       "      <td>False</td>\n",
       "      <td>False</td>\n",
       "    </tr>\n",
       "    <tr>\n",
       "      <th>18406</th>\n",
       "      <td>False</td>\n",
       "      <td>False</td>\n",
       "      <td>False</td>\n",
       "      <td>False</td>\n",
       "      <td>False</td>\n",
       "    </tr>\n",
       "    <tr>\n",
       "      <th>18407</th>\n",
       "      <td>False</td>\n",
       "      <td>False</td>\n",
       "      <td>False</td>\n",
       "      <td>False</td>\n",
       "      <td>False</td>\n",
       "    </tr>\n",
       "    <tr>\n",
       "      <th>18408</th>\n",
       "      <td>False</td>\n",
       "      <td>False</td>\n",
       "      <td>False</td>\n",
       "      <td>False</td>\n",
       "      <td>False</td>\n",
       "    </tr>\n",
       "  </tbody>\n",
       "</table>\n",
       "<p>18409 rows × 5 columns</p>\n",
       "</div>"
      ],
      "text/plain": [
       "       Unnamed: 0  Video ID  Comment  Likes  Sentiment\n",
       "0           False     False    False  False      False\n",
       "1           False     False    False  False      False\n",
       "2           False     False    False  False      False\n",
       "3           False     False    False  False      False\n",
       "4           False     False    False  False      False\n",
       "...           ...       ...      ...    ...        ...\n",
       "18404       False     False    False  False      False\n",
       "18405       False     False    False  False      False\n",
       "18406       False     False    False  False      False\n",
       "18407       False     False    False  False      False\n",
       "18408       False     False    False  False      False\n",
       "\n",
       "[18409 rows x 5 columns]"
      ]
     },
     "execution_count": 4,
     "metadata": {},
     "output_type": "execute_result"
    }
   ],
   "source": [
    "df.isnull()"
   ]
  },
  {
   "cell_type": "code",
   "execution_count": 5,
   "id": "9d516cee",
   "metadata": {},
   "outputs": [
    {
     "data": {
      "text/plain": [
       "0        False\n",
       "1        False\n",
       "2        False\n",
       "3        False\n",
       "4        False\n",
       "         ...  \n",
       "18404    False\n",
       "18405    False\n",
       "18406    False\n",
       "18407    False\n",
       "18408    False\n",
       "Length: 18409, dtype: bool"
      ]
     },
     "execution_count": 5,
     "metadata": {},
     "output_type": "execute_result"
    }
   ],
   "source": [
    "df.duplicated()"
   ]
  },
  {
   "cell_type": "code",
   "execution_count": 61,
   "id": "250e5a46",
   "metadata": {},
   "outputs": [
    {
     "data": {
      "text/plain": [
       "Unnamed: 0    0\n",
       "Video ID      0\n",
       "Comment       1\n",
       "Likes         0\n",
       "Sentiment     0\n",
       "dtype: int64"
      ]
     },
     "execution_count": 61,
     "metadata": {},
     "output_type": "execute_result"
    }
   ],
   "source": [
    "df.isna().sum()"
   ]
  },
  {
   "cell_type": "code",
   "execution_count": 62,
   "id": "a2eeb0ca",
   "metadata": {},
   "outputs": [],
   "source": [
    "mode_val = df['Comment'].mode()[0]\n",
    "\n",
    "df['Comment'].fillna(mode_val, inplace = True)"
   ]
  },
  {
   "cell_type": "code",
   "execution_count": 63,
   "id": "a14978cc",
   "metadata": {},
   "outputs": [
    {
     "data": {
      "text/plain": [
       "Unnamed: 0    0\n",
       "Video ID      0\n",
       "Comment       0\n",
       "Likes         0\n",
       "Sentiment     0\n",
       "dtype: int64"
      ]
     },
     "execution_count": 63,
     "metadata": {},
     "output_type": "execute_result"
    }
   ],
   "source": [
    "df.isna().sum()"
   ]
  },
  {
   "cell_type": "code",
   "execution_count": 64,
   "id": "70d4b30f",
   "metadata": {},
   "outputs": [
    {
     "data": {
      "text/html": [
       "<div>\n",
       "<style scoped>\n",
       "    .dataframe tbody tr th:only-of-type {\n",
       "        vertical-align: middle;\n",
       "    }\n",
       "\n",
       "    .dataframe tbody tr th {\n",
       "        vertical-align: top;\n",
       "    }\n",
       "\n",
       "    .dataframe thead th {\n",
       "        text-align: right;\n",
       "    }\n",
       "</style>\n",
       "<table border=\"1\" class=\"dataframe\">\n",
       "  <thead>\n",
       "    <tr style=\"text-align: right;\">\n",
       "      <th></th>\n",
       "      <th>Unnamed: 0</th>\n",
       "      <th>Title</th>\n",
       "      <th>Video ID</th>\n",
       "      <th>Published At</th>\n",
       "      <th>Keyword</th>\n",
       "      <th>Likes</th>\n",
       "      <th>Comments</th>\n",
       "      <th>Views</th>\n",
       "    </tr>\n",
       "  </thead>\n",
       "  <tbody>\n",
       "    <tr>\n",
       "      <th>0</th>\n",
       "      <td>0</td>\n",
       "      <td>Apple Pay Is Killing the Physical Wallet After...</td>\n",
       "      <td>wAZZ-UWGVHI</td>\n",
       "      <td>2022-08-23</td>\n",
       "      <td>tech</td>\n",
       "      <td>3407.0</td>\n",
       "      <td>672.0</td>\n",
       "      <td>135612.0</td>\n",
       "    </tr>\n",
       "    <tr>\n",
       "      <th>1</th>\n",
       "      <td>1</td>\n",
       "      <td>The most EXPENSIVE thing I own.</td>\n",
       "      <td>b3x28s61q3c</td>\n",
       "      <td>2022-08-24</td>\n",
       "      <td>tech</td>\n",
       "      <td>76779.0</td>\n",
       "      <td>4306.0</td>\n",
       "      <td>1758063.0</td>\n",
       "    </tr>\n",
       "    <tr>\n",
       "      <th>2</th>\n",
       "      <td>2</td>\n",
       "      <td>My New House Gaming Setup is SICK!</td>\n",
       "      <td>4mgePWWCAmA</td>\n",
       "      <td>2022-08-23</td>\n",
       "      <td>tech</td>\n",
       "      <td>63825.0</td>\n",
       "      <td>3338.0</td>\n",
       "      <td>1564007.0</td>\n",
       "    </tr>\n",
       "    <tr>\n",
       "      <th>3</th>\n",
       "      <td>3</td>\n",
       "      <td>Petrol Vs Liquid Nitrogen | Freezing Experimen...</td>\n",
       "      <td>kXiYSI7H2b0</td>\n",
       "      <td>2022-08-23</td>\n",
       "      <td>tech</td>\n",
       "      <td>71566.0</td>\n",
       "      <td>1426.0</td>\n",
       "      <td>922918.0</td>\n",
       "    </tr>\n",
       "    <tr>\n",
       "      <th>4</th>\n",
       "      <td>4</td>\n",
       "      <td>Best Back to School Tech 2022!</td>\n",
       "      <td>ErMwWXQxHp0</td>\n",
       "      <td>2022-08-08</td>\n",
       "      <td>tech</td>\n",
       "      <td>96513.0</td>\n",
       "      <td>5155.0</td>\n",
       "      <td>1855644.0</td>\n",
       "    </tr>\n",
       "  </tbody>\n",
       "</table>\n",
       "</div>"
      ],
      "text/plain": [
       "   Unnamed: 0                                              Title     Video ID  \\\n",
       "0           0  Apple Pay Is Killing the Physical Wallet After...  wAZZ-UWGVHI   \n",
       "1           1                    The most EXPENSIVE thing I own.  b3x28s61q3c   \n",
       "2           2                 My New House Gaming Setup is SICK!  4mgePWWCAmA   \n",
       "3           3  Petrol Vs Liquid Nitrogen | Freezing Experimen...  kXiYSI7H2b0   \n",
       "4           4                     Best Back to School Tech 2022!  ErMwWXQxHp0   \n",
       "\n",
       "  Published At Keyword    Likes  Comments      Views  \n",
       "0   2022-08-23    tech   3407.0     672.0   135612.0  \n",
       "1   2022-08-24    tech  76779.0    4306.0  1758063.0  \n",
       "2   2022-08-23    tech  63825.0    3338.0  1564007.0  \n",
       "3   2022-08-23    tech  71566.0    1426.0   922918.0  \n",
       "4   2022-08-08    tech  96513.0    5155.0  1855644.0  "
      ]
     },
     "execution_count": 64,
     "metadata": {},
     "output_type": "execute_result"
    }
   ],
   "source": [
    "df1 = pd.read_csv('videos-stats.csv')\n",
    "df1.head()"
   ]
  },
  {
   "cell_type": "code",
   "execution_count": 65,
   "id": "a3ef1b24",
   "metadata": {},
   "outputs": [],
   "source": [
    "#df1.rename(columns = {'Likes', 'Likes1'})\n",
    "df1.rename(columns={'Likes': 'Likes1'}, inplace=True)\n"
   ]
  },
  {
   "cell_type": "code",
   "execution_count": 66,
   "id": "a3137017",
   "metadata": {},
   "outputs": [],
   "source": [
    "merg = df1.merge(df, on='Video ID')"
   ]
  },
  {
   "cell_type": "code",
   "execution_count": 67,
   "id": "f47b9e5e",
   "metadata": {},
   "outputs": [
    {
     "data": {
      "text/html": [
       "<div>\n",
       "<style scoped>\n",
       "    .dataframe tbody tr th:only-of-type {\n",
       "        vertical-align: middle;\n",
       "    }\n",
       "\n",
       "    .dataframe tbody tr th {\n",
       "        vertical-align: top;\n",
       "    }\n",
       "\n",
       "    .dataframe thead th {\n",
       "        text-align: right;\n",
       "    }\n",
       "</style>\n",
       "<table border=\"1\" class=\"dataframe\">\n",
       "  <thead>\n",
       "    <tr style=\"text-align: right;\">\n",
       "      <th></th>\n",
       "      <th>Unnamed: 0_x</th>\n",
       "      <th>Title</th>\n",
       "      <th>Video ID</th>\n",
       "      <th>Published At</th>\n",
       "      <th>Keyword</th>\n",
       "      <th>Likes1</th>\n",
       "      <th>Comments</th>\n",
       "      <th>Views</th>\n",
       "      <th>Unnamed: 0_y</th>\n",
       "      <th>Comment</th>\n",
       "      <th>Likes</th>\n",
       "      <th>Sentiment</th>\n",
       "    </tr>\n",
       "  </thead>\n",
       "  <tbody>\n",
       "    <tr>\n",
       "      <th>0</th>\n",
       "      <td>0</td>\n",
       "      <td>Apple Pay Is Killing the Physical Wallet After...</td>\n",
       "      <td>wAZZ-UWGVHI</td>\n",
       "      <td>2022-08-23</td>\n",
       "      <td>tech</td>\n",
       "      <td>3407.0</td>\n",
       "      <td>672.0</td>\n",
       "      <td>135612.0</td>\n",
       "      <td>0</td>\n",
       "      <td>Let's not forget that Apple Pay in 2014 requir...</td>\n",
       "      <td>95.0</td>\n",
       "      <td>1.0</td>\n",
       "    </tr>\n",
       "    <tr>\n",
       "      <th>1</th>\n",
       "      <td>0</td>\n",
       "      <td>Apple Pay Is Killing the Physical Wallet After...</td>\n",
       "      <td>wAZZ-UWGVHI</td>\n",
       "      <td>2022-08-23</td>\n",
       "      <td>tech</td>\n",
       "      <td>3407.0</td>\n",
       "      <td>672.0</td>\n",
       "      <td>135612.0</td>\n",
       "      <td>1</td>\n",
       "      <td>Here in NZ 50% of retailers don’t even have co...</td>\n",
       "      <td>19.0</td>\n",
       "      <td>0.0</td>\n",
       "    </tr>\n",
       "    <tr>\n",
       "      <th>2</th>\n",
       "      <td>0</td>\n",
       "      <td>Apple Pay Is Killing the Physical Wallet After...</td>\n",
       "      <td>wAZZ-UWGVHI</td>\n",
       "      <td>2022-08-23</td>\n",
       "      <td>tech</td>\n",
       "      <td>3407.0</td>\n",
       "      <td>672.0</td>\n",
       "      <td>135612.0</td>\n",
       "      <td>2</td>\n",
       "      <td>I will forever acknowledge this channel with t...</td>\n",
       "      <td>161.0</td>\n",
       "      <td>2.0</td>\n",
       "    </tr>\n",
       "    <tr>\n",
       "      <th>3</th>\n",
       "      <td>0</td>\n",
       "      <td>Apple Pay Is Killing the Physical Wallet After...</td>\n",
       "      <td>wAZZ-UWGVHI</td>\n",
       "      <td>2022-08-23</td>\n",
       "      <td>tech</td>\n",
       "      <td>3407.0</td>\n",
       "      <td>672.0</td>\n",
       "      <td>135612.0</td>\n",
       "      <td>3</td>\n",
       "      <td>Whenever I go to a place that doesn’t take App...</td>\n",
       "      <td>8.0</td>\n",
       "      <td>0.0</td>\n",
       "    </tr>\n",
       "    <tr>\n",
       "      <th>4</th>\n",
       "      <td>0</td>\n",
       "      <td>Apple Pay Is Killing the Physical Wallet After...</td>\n",
       "      <td>wAZZ-UWGVHI</td>\n",
       "      <td>2022-08-23</td>\n",
       "      <td>tech</td>\n",
       "      <td>3407.0</td>\n",
       "      <td>672.0</td>\n",
       "      <td>135612.0</td>\n",
       "      <td>4</td>\n",
       "      <td>Apple Pay is so convenient, secure, and easy t...</td>\n",
       "      <td>34.0</td>\n",
       "      <td>2.0</td>\n",
       "    </tr>\n",
       "    <tr>\n",
       "      <th>...</th>\n",
       "      <td>...</td>\n",
       "      <td>...</td>\n",
       "      <td>...</td>\n",
       "      <td>...</td>\n",
       "      <td>...</td>\n",
       "      <td>...</td>\n",
       "      <td>...</td>\n",
       "      <td>...</td>\n",
       "      <td>...</td>\n",
       "      <td>...</td>\n",
       "      <td>...</td>\n",
       "      <td>...</td>\n",
       "    </tr>\n",
       "    <tr>\n",
       "      <th>18640</th>\n",
       "      <td>1880</td>\n",
       "      <td>Don&amp;#39;t learn machine learning</td>\n",
       "      <td>cyLWtMSry58</td>\n",
       "      <td>2020-03-30</td>\n",
       "      <td>machine learning</td>\n",
       "      <td>NaN</td>\n",
       "      <td>NaN</td>\n",
       "      <td>NaN</td>\n",
       "      <td>18404</td>\n",
       "      <td>I really like the point about engineering tool...</td>\n",
       "      <td>0.0</td>\n",
       "      <td>2.0</td>\n",
       "    </tr>\n",
       "    <tr>\n",
       "      <th>18641</th>\n",
       "      <td>1880</td>\n",
       "      <td>Don&amp;#39;t learn machine learning</td>\n",
       "      <td>cyLWtMSry58</td>\n",
       "      <td>2020-03-30</td>\n",
       "      <td>machine learning</td>\n",
       "      <td>NaN</td>\n",
       "      <td>NaN</td>\n",
       "      <td>NaN</td>\n",
       "      <td>18405</td>\n",
       "      <td>I’ve just started exploring this field. And th...</td>\n",
       "      <td>20.0</td>\n",
       "      <td>2.0</td>\n",
       "    </tr>\n",
       "    <tr>\n",
       "      <th>18642</th>\n",
       "      <td>1880</td>\n",
       "      <td>Don&amp;#39;t learn machine learning</td>\n",
       "      <td>cyLWtMSry58</td>\n",
       "      <td>2020-03-30</td>\n",
       "      <td>machine learning</td>\n",
       "      <td>NaN</td>\n",
       "      <td>NaN</td>\n",
       "      <td>NaN</td>\n",
       "      <td>18406</td>\n",
       "      <td>Excelente video con una pregunta filosófica pr...</td>\n",
       "      <td>1.0</td>\n",
       "      <td>1.0</td>\n",
       "    </tr>\n",
       "    <tr>\n",
       "      <th>18643</th>\n",
       "      <td>1880</td>\n",
       "      <td>Don&amp;#39;t learn machine learning</td>\n",
       "      <td>cyLWtMSry58</td>\n",
       "      <td>2020-03-30</td>\n",
       "      <td>machine learning</td>\n",
       "      <td>NaN</td>\n",
       "      <td>NaN</td>\n",
       "      <td>NaN</td>\n",
       "      <td>18407</td>\n",
       "      <td>Hey Daniel, just discovered your channel a cou...</td>\n",
       "      <td>35.0</td>\n",
       "      <td>2.0</td>\n",
       "    </tr>\n",
       "    <tr>\n",
       "      <th>18644</th>\n",
       "      <td>1880</td>\n",
       "      <td>Don&amp;#39;t learn machine learning</td>\n",
       "      <td>cyLWtMSry58</td>\n",
       "      <td>2020-03-30</td>\n",
       "      <td>machine learning</td>\n",
       "      <td>NaN</td>\n",
       "      <td>NaN</td>\n",
       "      <td>NaN</td>\n",
       "      <td>18408</td>\n",
       "      <td>This is great. Focus is key. A playful approac...</td>\n",
       "      <td>0.0</td>\n",
       "      <td>2.0</td>\n",
       "    </tr>\n",
       "  </tbody>\n",
       "</table>\n",
       "<p>18645 rows × 12 columns</p>\n",
       "</div>"
      ],
      "text/plain": [
       "       Unnamed: 0_x                                              Title  \\\n",
       "0                 0  Apple Pay Is Killing the Physical Wallet After...   \n",
       "1                 0  Apple Pay Is Killing the Physical Wallet After...   \n",
       "2                 0  Apple Pay Is Killing the Physical Wallet After...   \n",
       "3                 0  Apple Pay Is Killing the Physical Wallet After...   \n",
       "4                 0  Apple Pay Is Killing the Physical Wallet After...   \n",
       "...             ...                                                ...   \n",
       "18640          1880                   Don&#39;t learn machine learning   \n",
       "18641          1880                   Don&#39;t learn machine learning   \n",
       "18642          1880                   Don&#39;t learn machine learning   \n",
       "18643          1880                   Don&#39;t learn machine learning   \n",
       "18644          1880                   Don&#39;t learn machine learning   \n",
       "\n",
       "          Video ID Published At           Keyword  Likes1  Comments     Views  \\\n",
       "0      wAZZ-UWGVHI   2022-08-23              tech  3407.0     672.0  135612.0   \n",
       "1      wAZZ-UWGVHI   2022-08-23              tech  3407.0     672.0  135612.0   \n",
       "2      wAZZ-UWGVHI   2022-08-23              tech  3407.0     672.0  135612.0   \n",
       "3      wAZZ-UWGVHI   2022-08-23              tech  3407.0     672.0  135612.0   \n",
       "4      wAZZ-UWGVHI   2022-08-23              tech  3407.0     672.0  135612.0   \n",
       "...            ...          ...               ...     ...       ...       ...   \n",
       "18640  cyLWtMSry58   2020-03-30  machine learning     NaN       NaN       NaN   \n",
       "18641  cyLWtMSry58   2020-03-30  machine learning     NaN       NaN       NaN   \n",
       "18642  cyLWtMSry58   2020-03-30  machine learning     NaN       NaN       NaN   \n",
       "18643  cyLWtMSry58   2020-03-30  machine learning     NaN       NaN       NaN   \n",
       "18644  cyLWtMSry58   2020-03-30  machine learning     NaN       NaN       NaN   \n",
       "\n",
       "       Unnamed: 0_y                                            Comment  Likes  \\\n",
       "0                 0  Let's not forget that Apple Pay in 2014 requir...   95.0   \n",
       "1                 1  Here in NZ 50% of retailers don’t even have co...   19.0   \n",
       "2                 2  I will forever acknowledge this channel with t...  161.0   \n",
       "3                 3  Whenever I go to a place that doesn’t take App...    8.0   \n",
       "4                 4  Apple Pay is so convenient, secure, and easy t...   34.0   \n",
       "...             ...                                                ...    ...   \n",
       "18640         18404  I really like the point about engineering tool...    0.0   \n",
       "18641         18405  I’ve just started exploring this field. And th...   20.0   \n",
       "18642         18406  Excelente video con una pregunta filosófica pr...    1.0   \n",
       "18643         18407  Hey Daniel, just discovered your channel a cou...   35.0   \n",
       "18644         18408  This is great. Focus is key. A playful approac...    0.0   \n",
       "\n",
       "       Sentiment  \n",
       "0            1.0  \n",
       "1            0.0  \n",
       "2            2.0  \n",
       "3            0.0  \n",
       "4            2.0  \n",
       "...          ...  \n",
       "18640        2.0  \n",
       "18641        2.0  \n",
       "18642        1.0  \n",
       "18643        2.0  \n",
       "18644        2.0  \n",
       "\n",
       "[18645 rows x 12 columns]"
      ]
     },
     "execution_count": 67,
     "metadata": {},
     "output_type": "execute_result"
    }
   ],
   "source": [
    "merg"
   ]
  },
  {
   "cell_type": "code",
   "execution_count": 68,
   "id": "155b672d",
   "metadata": {},
   "outputs": [],
   "source": [
    "df1 = merg.drop(['Unnamed: 0_y', 'Unnamed: 0_x'], axis = 1)"
   ]
  },
  {
   "cell_type": "code",
   "execution_count": 69,
   "id": "5780a2da",
   "metadata": {},
   "outputs": [
    {
     "data": {
      "text/html": [
       "<div>\n",
       "<style scoped>\n",
       "    .dataframe tbody tr th:only-of-type {\n",
       "        vertical-align: middle;\n",
       "    }\n",
       "\n",
       "    .dataframe tbody tr th {\n",
       "        vertical-align: top;\n",
       "    }\n",
       "\n",
       "    .dataframe thead th {\n",
       "        text-align: right;\n",
       "    }\n",
       "</style>\n",
       "<table border=\"1\" class=\"dataframe\">\n",
       "  <thead>\n",
       "    <tr style=\"text-align: right;\">\n",
       "      <th></th>\n",
       "      <th>Title</th>\n",
       "      <th>Video ID</th>\n",
       "      <th>Published At</th>\n",
       "      <th>Keyword</th>\n",
       "      <th>Likes1</th>\n",
       "      <th>Comments</th>\n",
       "      <th>Views</th>\n",
       "      <th>Comment</th>\n",
       "      <th>Likes</th>\n",
       "      <th>Sentiment</th>\n",
       "    </tr>\n",
       "  </thead>\n",
       "  <tbody>\n",
       "    <tr>\n",
       "      <th>0</th>\n",
       "      <td>Apple Pay Is Killing the Physical Wallet After...</td>\n",
       "      <td>wAZZ-UWGVHI</td>\n",
       "      <td>2022-08-23</td>\n",
       "      <td>tech</td>\n",
       "      <td>3407.0</td>\n",
       "      <td>672.0</td>\n",
       "      <td>135612.0</td>\n",
       "      <td>Let's not forget that Apple Pay in 2014 requir...</td>\n",
       "      <td>95.0</td>\n",
       "      <td>1.0</td>\n",
       "    </tr>\n",
       "    <tr>\n",
       "      <th>1</th>\n",
       "      <td>Apple Pay Is Killing the Physical Wallet After...</td>\n",
       "      <td>wAZZ-UWGVHI</td>\n",
       "      <td>2022-08-23</td>\n",
       "      <td>tech</td>\n",
       "      <td>3407.0</td>\n",
       "      <td>672.0</td>\n",
       "      <td>135612.0</td>\n",
       "      <td>Here in NZ 50% of retailers don’t even have co...</td>\n",
       "      <td>19.0</td>\n",
       "      <td>0.0</td>\n",
       "    </tr>\n",
       "    <tr>\n",
       "      <th>2</th>\n",
       "      <td>Apple Pay Is Killing the Physical Wallet After...</td>\n",
       "      <td>wAZZ-UWGVHI</td>\n",
       "      <td>2022-08-23</td>\n",
       "      <td>tech</td>\n",
       "      <td>3407.0</td>\n",
       "      <td>672.0</td>\n",
       "      <td>135612.0</td>\n",
       "      <td>I will forever acknowledge this channel with t...</td>\n",
       "      <td>161.0</td>\n",
       "      <td>2.0</td>\n",
       "    </tr>\n",
       "    <tr>\n",
       "      <th>3</th>\n",
       "      <td>Apple Pay Is Killing the Physical Wallet After...</td>\n",
       "      <td>wAZZ-UWGVHI</td>\n",
       "      <td>2022-08-23</td>\n",
       "      <td>tech</td>\n",
       "      <td>3407.0</td>\n",
       "      <td>672.0</td>\n",
       "      <td>135612.0</td>\n",
       "      <td>Whenever I go to a place that doesn’t take App...</td>\n",
       "      <td>8.0</td>\n",
       "      <td>0.0</td>\n",
       "    </tr>\n",
       "    <tr>\n",
       "      <th>4</th>\n",
       "      <td>Apple Pay Is Killing the Physical Wallet After...</td>\n",
       "      <td>wAZZ-UWGVHI</td>\n",
       "      <td>2022-08-23</td>\n",
       "      <td>tech</td>\n",
       "      <td>3407.0</td>\n",
       "      <td>672.0</td>\n",
       "      <td>135612.0</td>\n",
       "      <td>Apple Pay is so convenient, secure, and easy t...</td>\n",
       "      <td>34.0</td>\n",
       "      <td>2.0</td>\n",
       "    </tr>\n",
       "    <tr>\n",
       "      <th>...</th>\n",
       "      <td>...</td>\n",
       "      <td>...</td>\n",
       "      <td>...</td>\n",
       "      <td>...</td>\n",
       "      <td>...</td>\n",
       "      <td>...</td>\n",
       "      <td>...</td>\n",
       "      <td>...</td>\n",
       "      <td>...</td>\n",
       "      <td>...</td>\n",
       "    </tr>\n",
       "    <tr>\n",
       "      <th>18640</th>\n",
       "      <td>Don&amp;#39;t learn machine learning</td>\n",
       "      <td>cyLWtMSry58</td>\n",
       "      <td>2020-03-30</td>\n",
       "      <td>machine learning</td>\n",
       "      <td>NaN</td>\n",
       "      <td>NaN</td>\n",
       "      <td>NaN</td>\n",
       "      <td>I really like the point about engineering tool...</td>\n",
       "      <td>0.0</td>\n",
       "      <td>2.0</td>\n",
       "    </tr>\n",
       "    <tr>\n",
       "      <th>18641</th>\n",
       "      <td>Don&amp;#39;t learn machine learning</td>\n",
       "      <td>cyLWtMSry58</td>\n",
       "      <td>2020-03-30</td>\n",
       "      <td>machine learning</td>\n",
       "      <td>NaN</td>\n",
       "      <td>NaN</td>\n",
       "      <td>NaN</td>\n",
       "      <td>I’ve just started exploring this field. And th...</td>\n",
       "      <td>20.0</td>\n",
       "      <td>2.0</td>\n",
       "    </tr>\n",
       "    <tr>\n",
       "      <th>18642</th>\n",
       "      <td>Don&amp;#39;t learn machine learning</td>\n",
       "      <td>cyLWtMSry58</td>\n",
       "      <td>2020-03-30</td>\n",
       "      <td>machine learning</td>\n",
       "      <td>NaN</td>\n",
       "      <td>NaN</td>\n",
       "      <td>NaN</td>\n",
       "      <td>Excelente video con una pregunta filosófica pr...</td>\n",
       "      <td>1.0</td>\n",
       "      <td>1.0</td>\n",
       "    </tr>\n",
       "    <tr>\n",
       "      <th>18643</th>\n",
       "      <td>Don&amp;#39;t learn machine learning</td>\n",
       "      <td>cyLWtMSry58</td>\n",
       "      <td>2020-03-30</td>\n",
       "      <td>machine learning</td>\n",
       "      <td>NaN</td>\n",
       "      <td>NaN</td>\n",
       "      <td>NaN</td>\n",
       "      <td>Hey Daniel, just discovered your channel a cou...</td>\n",
       "      <td>35.0</td>\n",
       "      <td>2.0</td>\n",
       "    </tr>\n",
       "    <tr>\n",
       "      <th>18644</th>\n",
       "      <td>Don&amp;#39;t learn machine learning</td>\n",
       "      <td>cyLWtMSry58</td>\n",
       "      <td>2020-03-30</td>\n",
       "      <td>machine learning</td>\n",
       "      <td>NaN</td>\n",
       "      <td>NaN</td>\n",
       "      <td>NaN</td>\n",
       "      <td>This is great. Focus is key. A playful approac...</td>\n",
       "      <td>0.0</td>\n",
       "      <td>2.0</td>\n",
       "    </tr>\n",
       "  </tbody>\n",
       "</table>\n",
       "<p>18645 rows × 10 columns</p>\n",
       "</div>"
      ],
      "text/plain": [
       "                                                   Title     Video ID  \\\n",
       "0      Apple Pay Is Killing the Physical Wallet After...  wAZZ-UWGVHI   \n",
       "1      Apple Pay Is Killing the Physical Wallet After...  wAZZ-UWGVHI   \n",
       "2      Apple Pay Is Killing the Physical Wallet After...  wAZZ-UWGVHI   \n",
       "3      Apple Pay Is Killing the Physical Wallet After...  wAZZ-UWGVHI   \n",
       "4      Apple Pay Is Killing the Physical Wallet After...  wAZZ-UWGVHI   \n",
       "...                                                  ...          ...   \n",
       "18640                   Don&#39;t learn machine learning  cyLWtMSry58   \n",
       "18641                   Don&#39;t learn machine learning  cyLWtMSry58   \n",
       "18642                   Don&#39;t learn machine learning  cyLWtMSry58   \n",
       "18643                   Don&#39;t learn machine learning  cyLWtMSry58   \n",
       "18644                   Don&#39;t learn machine learning  cyLWtMSry58   \n",
       "\n",
       "      Published At           Keyword  Likes1  Comments     Views  \\\n",
       "0       2022-08-23              tech  3407.0     672.0  135612.0   \n",
       "1       2022-08-23              tech  3407.0     672.0  135612.0   \n",
       "2       2022-08-23              tech  3407.0     672.0  135612.0   \n",
       "3       2022-08-23              tech  3407.0     672.0  135612.0   \n",
       "4       2022-08-23              tech  3407.0     672.0  135612.0   \n",
       "...            ...               ...     ...       ...       ...   \n",
       "18640   2020-03-30  machine learning     NaN       NaN       NaN   \n",
       "18641   2020-03-30  machine learning     NaN       NaN       NaN   \n",
       "18642   2020-03-30  machine learning     NaN       NaN       NaN   \n",
       "18643   2020-03-30  machine learning     NaN       NaN       NaN   \n",
       "18644   2020-03-30  machine learning     NaN       NaN       NaN   \n",
       "\n",
       "                                                 Comment  Likes  Sentiment  \n",
       "0      Let's not forget that Apple Pay in 2014 requir...   95.0        1.0  \n",
       "1      Here in NZ 50% of retailers don’t even have co...   19.0        0.0  \n",
       "2      I will forever acknowledge this channel with t...  161.0        2.0  \n",
       "3      Whenever I go to a place that doesn’t take App...    8.0        0.0  \n",
       "4      Apple Pay is so convenient, secure, and easy t...   34.0        2.0  \n",
       "...                                                  ...    ...        ...  \n",
       "18640  I really like the point about engineering tool...    0.0        2.0  \n",
       "18641  I’ve just started exploring this field. And th...   20.0        2.0  \n",
       "18642  Excelente video con una pregunta filosófica pr...    1.0        1.0  \n",
       "18643  Hey Daniel, just discovered your channel a cou...   35.0        2.0  \n",
       "18644  This is great. Focus is key. A playful approac...    0.0        2.0  \n",
       "\n",
       "[18645 rows x 10 columns]"
      ]
     },
     "execution_count": 69,
     "metadata": {},
     "output_type": "execute_result"
    }
   ],
   "source": [
    "df1"
   ]
  },
  {
   "cell_type": "code",
   "execution_count": 15,
   "id": "ca6c855a",
   "metadata": {},
   "outputs": [
    {
     "name": "stdout",
     "output_type": "stream",
     "text": [
      "<class 'pandas.core.frame.DataFrame'>\n",
      "Int64Index: 18645 entries, 0 to 18644\n",
      "Data columns (total 10 columns):\n",
      " #   Column        Non-Null Count  Dtype  \n",
      "---  ------        --------------  -----  \n",
      " 0   Title         18645 non-null  object \n",
      " 1   Video ID      18645 non-null  object \n",
      " 2   Published At  18645 non-null  object \n",
      " 3   Keyword       18645 non-null  object \n",
      " 4   Likes1        18625 non-null  float64\n",
      " 5   Comments      18625 non-null  float64\n",
      " 6   Views         18625 non-null  float64\n",
      " 7   Comment       18645 non-null  object \n",
      " 8   Likes         18645 non-null  float64\n",
      " 9   Sentiment     18645 non-null  float64\n",
      "dtypes: float64(5), object(5)\n",
      "memory usage: 1.6+ MB\n"
     ]
    }
   ],
   "source": [
    "df1.info()"
   ]
  },
  {
   "cell_type": "code",
   "execution_count": 16,
   "id": "6de39606",
   "metadata": {},
   "outputs": [
    {
     "data": {
      "text/html": [
       "<div>\n",
       "<style scoped>\n",
       "    .dataframe tbody tr th:only-of-type {\n",
       "        vertical-align: middle;\n",
       "    }\n",
       "\n",
       "    .dataframe tbody tr th {\n",
       "        vertical-align: top;\n",
       "    }\n",
       "\n",
       "    .dataframe thead th {\n",
       "        text-align: right;\n",
       "    }\n",
       "</style>\n",
       "<table border=\"1\" class=\"dataframe\">\n",
       "  <thead>\n",
       "    <tr style=\"text-align: right;\">\n",
       "      <th></th>\n",
       "      <th>Likes1</th>\n",
       "      <th>Comments</th>\n",
       "      <th>Views</th>\n",
       "      <th>Likes</th>\n",
       "      <th>Sentiment</th>\n",
       "    </tr>\n",
       "  </thead>\n",
       "  <tbody>\n",
       "    <tr>\n",
       "      <th>count</th>\n",
       "      <td>1.862500e+04</td>\n",
       "      <td>18625.000000</td>\n",
       "      <td>1.862500e+04</td>\n",
       "      <td>18645.000000</td>\n",
       "      <td>18645.000000</td>\n",
       "    </tr>\n",
       "    <tr>\n",
       "      <th>mean</th>\n",
       "      <td>1.753353e+05</td>\n",
       "      <td>8101.347973</td>\n",
       "      <td>1.174082e+07</td>\n",
       "      <td>1044.853955</td>\n",
       "      <td>1.495790</td>\n",
       "    </tr>\n",
       "    <tr>\n",
       "      <th>std</th>\n",
       "      <td>8.047016e+05</td>\n",
       "      <td>38183.982425</td>\n",
       "      <td>1.088871e+08</td>\n",
       "      <td>10607.683576</td>\n",
       "      <td>0.708733</td>\n",
       "    </tr>\n",
       "    <tr>\n",
       "      <th>min</th>\n",
       "      <td>-1.000000e+00</td>\n",
       "      <td>-1.000000</td>\n",
       "      <td>2.500000e+01</td>\n",
       "      <td>0.000000</td>\n",
       "      <td>0.000000</td>\n",
       "    </tr>\n",
       "    <tr>\n",
       "      <th>25%</th>\n",
       "      <td>2.786000e+03</td>\n",
       "      <td>216.000000</td>\n",
       "      <td>9.284100e+04</td>\n",
       "      <td>4.000000</td>\n",
       "      <td>1.000000</td>\n",
       "    </tr>\n",
       "    <tr>\n",
       "      <th>50%</th>\n",
       "      <td>1.542500e+04</td>\n",
       "      <td>864.000000</td>\n",
       "      <td>6.173500e+05</td>\n",
       "      <td>29.000000</td>\n",
       "      <td>2.000000</td>\n",
       "    </tr>\n",
       "    <tr>\n",
       "      <th>75%</th>\n",
       "      <td>6.210300e+04</td>\n",
       "      <td>3501.000000</td>\n",
       "      <td>2.861258e+06</td>\n",
       "      <td>190.000000</td>\n",
       "      <td>2.000000</td>\n",
       "    </tr>\n",
       "    <tr>\n",
       "      <th>max</th>\n",
       "      <td>1.644556e+07</td>\n",
       "      <td>732818.000000</td>\n",
       "      <td>4.034122e+09</td>\n",
       "      <td>891372.000000</td>\n",
       "      <td>2.000000</td>\n",
       "    </tr>\n",
       "  </tbody>\n",
       "</table>\n",
       "</div>"
      ],
      "text/plain": [
       "             Likes1       Comments         Views          Likes     Sentiment\n",
       "count  1.862500e+04   18625.000000  1.862500e+04   18645.000000  18645.000000\n",
       "mean   1.753353e+05    8101.347973  1.174082e+07    1044.853955      1.495790\n",
       "std    8.047016e+05   38183.982425  1.088871e+08   10607.683576      0.708733\n",
       "min   -1.000000e+00      -1.000000  2.500000e+01       0.000000      0.000000\n",
       "25%    2.786000e+03     216.000000  9.284100e+04       4.000000      1.000000\n",
       "50%    1.542500e+04     864.000000  6.173500e+05      29.000000      2.000000\n",
       "75%    6.210300e+04    3501.000000  2.861258e+06     190.000000      2.000000\n",
       "max    1.644556e+07  732818.000000  4.034122e+09  891372.000000      2.000000"
      ]
     },
     "execution_count": 16,
     "metadata": {},
     "output_type": "execute_result"
    }
   ],
   "source": [
    "df1.describe()"
   ]
  },
  {
   "cell_type": "code",
   "execution_count": 70,
   "id": "44ac1839",
   "metadata": {},
   "outputs": [
    {
     "data": {
      "text/plain": [
       "Title            0\n",
       "Video ID         0\n",
       "Published At     0\n",
       "Keyword          0\n",
       "Likes1          20\n",
       "Comments        20\n",
       "Views           20\n",
       "Comment          0\n",
       "Likes            0\n",
       "Sentiment        0\n",
       "dtype: int64"
      ]
     },
     "execution_count": 70,
     "metadata": {},
     "output_type": "execute_result"
    }
   ],
   "source": [
    "df1.isnull().sum()"
   ]
  },
  {
   "cell_type": "code",
   "execution_count": 71,
   "id": "09e176db",
   "metadata": {},
   "outputs": [],
   "source": [
    "# df1.columns = df1.columns.str.strip()  # Remove leading/trailing whitespaces from column names\n",
    "\n",
    "df1['Comments'].fillna(df1['Comments'].mode()[0], inplace=True)\n"
   ]
  },
  {
   "cell_type": "code",
   "execution_count": 72,
   "id": "f3051639",
   "metadata": {},
   "outputs": [],
   "source": [
    "df1['Views'].fillna(df1['Views'].mode()[0], inplace=True)"
   ]
  },
  {
   "cell_type": "code",
   "execution_count": 73,
   "id": "f54a20bf",
   "metadata": {},
   "outputs": [],
   "source": [
    "df1['Likes1'].fillna(df1['Likes1'].mode()[0], inplace=True)"
   ]
  },
  {
   "cell_type": "code",
   "execution_count": 74,
   "id": "643e6df8",
   "metadata": {},
   "outputs": [
    {
     "data": {
      "text/plain": [
       "Title           0\n",
       "Video ID        0\n",
       "Published At    0\n",
       "Keyword         0\n",
       "Likes1          0\n",
       "Comments        0\n",
       "Views           0\n",
       "Comment         0\n",
       "Likes           0\n",
       "Sentiment       0\n",
       "dtype: int64"
      ]
     },
     "execution_count": 74,
     "metadata": {},
     "output_type": "execute_result"
    }
   ],
   "source": [
    "df1.isna().sum()"
   ]
  },
  {
   "cell_type": "code",
   "execution_count": null,
   "id": "2846a887",
   "metadata": {},
   "outputs": [],
   "source": []
  },
  {
   "cell_type": "markdown",
   "id": "c461f55d",
   "metadata": {},
   "source": [
    "# Data Visualization"
   ]
  },
  {
   "cell_type": "code",
   "execution_count": 25,
   "id": "0dec5407",
   "metadata": {},
   "outputs": [
    {
     "data": {
      "text/plain": [
       "0.0       1456\n",
       "1.0       1042\n",
       "2.0        850\n",
       "3.0        635\n",
       "4.0        609\n",
       "          ... \n",
       "3342.0       1\n",
       "731.0        1\n",
       "2829.0       1\n",
       "1086.0       1\n",
       "2111.0       1\n",
       "Name: Likes, Length: 2539, dtype: int64"
      ]
     },
     "execution_count": 25,
     "metadata": {},
     "output_type": "execute_result"
    }
   ],
   "source": [
    "df.Likes.value_counts()"
   ]
  },
  {
   "cell_type": "code",
   "execution_count": 26,
   "id": "1d2c6006",
   "metadata": {},
   "outputs": [
    {
     "data": {
      "image/png": "[encoded data removed]",
      "text/plain": [
       "<Figure size 640x480 with 1 Axes>"
      ]
     },
     "metadata": {},
     "output_type": "display_data"
    }
   ],
   "source": [
    "import matplotlib.pyplot as plt\n",
    "import seaborn as sns\n",
    "\n",
    "likes_counts = df['Likes'].value_counts().head(200)  # Get top 200 counts\n",
    "sns.countplot(data=df, x='Likes', order=likes_counts.index)  # Use order parameter to specify the order of bars\n",
    "plt.show()\n"
   ]
  },
  {
   "cell_type": "code",
   "execution_count": 27,
   "id": "98909d20",
   "metadata": {},
   "outputs": [
    {
     "data": {
      "image/png": "[encoded data removed]",
      "text/plain": [
       "<Figure size 640x480 with 1 Axes>"
      ]
     },
     "metadata": {},
     "output_type": "display_data"
    }
   ],
   "source": [
    "sns.countplot(data=df,x='Sentiment')\n",
    "plt.show()"
   ]
  },
  {
   "cell_type": "code",
   "execution_count": 31,
   "id": "367fb7c2",
   "metadata": {},
   "outputs": [
    {
     "data": {
      "text/plain": [
       "array(['Title', 'Video ID', 'Published At', 'Keyword', 'Likes1',\n",
       "       'Comments', 'Views', 'Comment', 'Likes', 'Sentiment'], dtype=object)"
      ]
     },
     "execution_count": 31,
     "metadata": {},
     "output_type": "execute_result"
    }
   ],
   "source": [
    "df1.columns.values"
   ]
  },
  {
   "cell_type": "code",
   "execution_count": 33,
   "id": "d2d26d30",
   "metadata": {},
   "outputs": [
    {
     "data": {
      "image/png": "[encoded data removed]",
      "text/plain": [
       "<Figure size 640x480 with 1 Axes>"
      ]
     },
     "metadata": {},
     "output_type": "display_data"
    }
   ],
   "source": [
    "import matplotlib.pyplot as plt\n",
    "\n",
    "plt.scatter(df1['Views'], df1['Likes'])\n",
    "plt.xlabel('Views')\n",
    "plt.ylabel('Likes')\n",
    "plt.title('Views vs Likes')\n",
    "plt.show()\n"
   ]
  },
  {
   "cell_type": "code",
   "execution_count": 35,
   "id": "b9ac41d9",
   "metadata": {},
   "outputs": [
    {
     "data": {
      "image/png": "[encoded data removed]",
      "text/plain": [
       "<Figure size 640x480 with 1 Axes>"
      ]
     },
     "metadata": {},
     "output_type": "display_data"
    }
   ],
   "source": [
    "avg_likes_by_keyword = df1.groupby('Keyword')['Likes'].mean()\n",
    "plt.bar(avg_likes_by_keyword.index, avg_likes_by_keyword.values)\n",
    "plt.xlabel('Keyword')\n",
    "plt.ylabel('Average Likes')\n",
    "plt.title('Average Likes by Keyword')\n",
    "plt.xticks(rotation=90)\n",
    "plt.show()\n"
   ]
  },
  {
   "cell_type": "code",
   "execution_count": 38,
   "id": "a503c78f",
   "metadata": {},
   "outputs": [
    {
     "data": {
      "image/png": "[encoded data removed]",
      "text/plain": [
       "<Figure size 640x480 with 1 Axes>"
      ]
     },
     "metadata": {},
     "output_type": "display_data"
    }
   ],
   "source": [
    "sentiment_counts = df1['Sentiment'].value_counts()\n",
    "plt.pie(sentiment_counts, labels=sentiment_counts.index, autopct='%1.1f%%')\n",
    "plt.title('Sentiment Distribution')\n",
    "plt.show()\n"
   ]
  },
  {
   "cell_type": "code",
   "execution_count": 39,
   "id": "fb4d467e",
   "metadata": {},
   "outputs": [
    {
     "data": {
      "image/png": "[encoded data removed]",
      "text/plain": [
       "<Figure size 640x480 with 1 Axes>"
      ]
     },
     "metadata": {},
     "output_type": "display_data"
    }
   ],
   "source": [
    "df1['Published Month'] = pd.to_datetime(df1['Published At']).dt.month\n",
    "avg_likes_by_month = df1.groupby('Published Month')['Likes'].mean()\n",
    "plt.bar(avg_likes_by_month.index, avg_likes_by_month.values)\n",
    "plt.xlabel('Month')\n",
    "plt.ylabel('Average Likes')\n",
    "plt.title('Average Likes by Month')\n",
    "plt.show()\n"
   ]
  },
  {
   "cell_type": "code",
   "execution_count": null,
   "id": "f83a94f5",
   "metadata": {},
   "outputs": [],
   "source": []
  },
  {
   "cell_type": "code",
   "execution_count": null,
   "id": "72e2dbef",
   "metadata": {},
   "outputs": [],
   "source": []
  },
  {
   "cell_type": "markdown",
   "id": "85a0684b",
   "metadata": {},
   "source": [
    "# modeling"
   ]
  },
  {
   "cell_type": "markdown",
   "id": "d80181c5",
   "metadata": {},
   "source": [
    "# linear regression"
   ]
  },
  {
   "cell_type": "code",
   "execution_count": 75,
   "id": "9cfd5efe",
   "metadata": {},
   "outputs": [
    {
     "data": {
      "text/plain": [
       "0     95.0\n",
       "1     19.0\n",
       "2    161.0\n",
       "3      8.0\n",
       "4     34.0\n",
       "Name: Likes, dtype: float64"
      ]
     },
     "execution_count": 75,
     "metadata": {},
     "output_type": "execute_result"
    }
   ],
   "source": [
    "x = df1[\"Likes\"]\n",
    "x.head()"
   ]
  },
  {
   "cell_type": "code",
   "execution_count": 76,
   "id": "ce6d5f51",
   "metadata": {},
   "outputs": [
    {
     "data": {
      "text/plain": [
       "0    1.0\n",
       "1    0.0\n",
       "2    2.0\n",
       "3    0.0\n",
       "4    2.0\n",
       "Name: Sentiment, dtype: float64"
      ]
     },
     "execution_count": 76,
     "metadata": {},
     "output_type": "execute_result"
    }
   ],
   "source": [
    "y = df1[\"Sentiment\"]\n",
    "y.head()"
   ]
  },
  {
   "cell_type": "code",
   "execution_count": 42,
   "id": "68175886",
   "metadata": {},
   "outputs": [],
   "source": [
    "# X_ = df1[['Title', 'Video ID', 'Published At', 'Keyword', 'Comments', 'Views']]\n",
    "X_ = df1[['Comments', 'Views']]\n",
    "y_ = df1['Likes']"
   ]
  },
  {
   "cell_type": "code",
   "execution_count": 43,
   "id": "de63b7bc",
   "metadata": {},
   "outputs": [
    {
     "data": {
      "text/plain": [
       "LinearRegression()"
      ]
     },
     "execution_count": 43,
     "metadata": {},
     "output_type": "execute_result"
    }
   ],
   "source": [
    "from sklearn.model_selection import train_test_split\n",
    "from sklearn.linear_model import LinearRegression\n",
    "\n",
    "x_train, x_test, y_train, y_test = train_test_split(X_, y_, test_size=0.2, random_state = 0)\n",
    "model = LinearRegression()\n",
    "model.fit(x_train, y_train)"
   ]
  },
  {
   "cell_type": "code",
   "execution_count": 44,
   "id": "efcff1e7",
   "metadata": {},
   "outputs": [],
   "source": [
    "y_pred = model.predict(x_test)"
   ]
  },
  {
   "cell_type": "code",
   "execution_count": 45,
   "id": "f1cd4781",
   "metadata": {},
   "outputs": [
    {
     "data": {
      "text/plain": [
       "array([6311.31731929,  311.02879331,  290.37977999, ...,  605.22146202,\n",
       "        363.90877896,  666.91938041])"
      ]
     },
     "execution_count": 45,
     "metadata": {},
     "output_type": "execute_result"
    }
   ],
   "source": [
    "y_pred"
   ]
  },
  {
   "cell_type": "code",
   "execution_count": 46,
   "id": "6e5b44c4",
   "metadata": {},
   "outputs": [
    {
     "data": {
      "text/plain": [
       "6221      475.0\n",
       "1884        4.0\n",
       "812         0.0\n",
       "4981     5342.0\n",
       "5567        6.0\n",
       "          ...  \n",
       "2525       11.0\n",
       "6114      551.0\n",
       "17993     711.0\n",
       "13162      29.0\n",
       "10517       1.0\n",
       "Name: Likes, Length: 3729, dtype: float64"
      ]
     },
     "execution_count": 46,
     "metadata": {},
     "output_type": "execute_result"
    }
   ],
   "source": [
    "y_test"
   ]
  },
  {
   "cell_type": "code",
   "execution_count": null,
   "id": "df9ec966",
   "metadata": {},
   "outputs": [],
   "source": []
  },
  {
   "cell_type": "markdown",
   "id": "e4632127",
   "metadata": {},
   "source": [
    "# randomforest regression"
   ]
  },
  {
   "cell_type": "code",
   "execution_count": 77,
   "id": "5d52a49c",
   "metadata": {},
   "outputs": [],
   "source": [
    "import pandas as pd\n",
    "from sklearn.model_selection import train_test_split\n",
    "from sklearn.ensemble import RandomForestRegressor\n",
    "from sklearn.metrics import mean_squared_error, r2_score\n"
   ]
  },
  {
   "cell_type": "code",
   "execution_count": 78,
   "id": "62b99239",
   "metadata": {},
   "outputs": [
    {
     "data": {
      "text/plain": [
       "array(['Title', 'Video ID', 'Published At', 'Keyword', 'Likes1',\n",
       "       'Comments', 'Views', 'Comment', 'Likes', 'Sentiment'], dtype=object)"
      ]
     },
     "execution_count": 78,
     "metadata": {},
     "output_type": "execute_result"
    }
   ],
   "source": [
    "df1.columns.values"
   ]
  },
  {
   "cell_type": "code",
   "execution_count": 79,
   "id": "b4d7c5ed",
   "metadata": {},
   "outputs": [
    {
     "data": {
      "text/plain": [
       "Title           0\n",
       "Video ID        0\n",
       "Published At    0\n",
       "Keyword         0\n",
       "Likes1          0\n",
       "Comments        0\n",
       "Views           0\n",
       "Comment         0\n",
       "Likes           0\n",
       "Sentiment       0\n",
       "dtype: int64"
      ]
     },
     "execution_count": 79,
     "metadata": {},
     "output_type": "execute_result"
    }
   ],
   "source": [
    "df1.isnull().sum()"
   ]
  },
  {
   "cell_type": "code",
   "execution_count": 80,
   "id": "eb087409",
   "metadata": {},
   "outputs": [],
   "source": [
    "df1['Comments'] = df1['Comments'].astype(str)\n"
   ]
  },
  {
   "cell_type": "code",
   "execution_count": 81,
   "id": "4d983778",
   "metadata": {},
   "outputs": [
    {
     "name": "stdout",
     "output_type": "stream",
     "text": [
      "['672.0' '4306.0' '3338.0' ... '1004.0' '232.0' '648.0']\n",
      "object\n"
     ]
    }
   ],
   "source": [
    "print(df1['Comments'].unique())\n",
    "print(df1['Comments'].dtype)\n"
   ]
  },
  {
   "cell_type": "code",
   "execution_count": 82,
   "id": "aa453bba",
   "metadata": {},
   "outputs": [],
   "source": [
    "from sklearn.feature_extraction.text import CountVectorizer\n",
    "\n",
    "# Create an instance of CountVectorizer\n",
    "vectorizer = CountVectorizer()\n",
    "\n",
    "# Fit the vectorizer on the comments\n",
    "vectorizer.fit(df1['Comments'])\n",
    "\n",
    "# Transform the comments into a numerical matrix\n",
    "X_comments = vectorizer.transform(df1['Comments'])\n"
   ]
  },
  {
   "cell_type": "code",
   "execution_count": 83,
   "id": "4c5bb067",
   "metadata": {},
   "outputs": [
    {
     "data": {
      "text/plain": [
       "<18645x1361 sparse matrix of type '<class 'numpy.int64'>'\n",
       "\twith 18448 stored elements in Compressed Sparse Row format>"
      ]
     },
     "execution_count": 83,
     "metadata": {},
     "output_type": "execute_result"
    }
   ],
   "source": [
    "X_comments"
   ]
  },
  {
   "cell_type": "code",
   "execution_count": 84,
   "id": "1c90b54e",
   "metadata": {},
   "outputs": [
    {
     "data": {
      "text/html": [
       "<div>\n",
       "<style scoped>\n",
       "    .dataframe tbody tr th:only-of-type {\n",
       "        vertical-align: middle;\n",
       "    }\n",
       "\n",
       "    .dataframe tbody tr th {\n",
       "        vertical-align: top;\n",
       "    }\n",
       "\n",
       "    .dataframe thead th {\n",
       "        text-align: right;\n",
       "    }\n",
       "</style>\n",
       "<table border=\"1\" class=\"dataframe\">\n",
       "  <thead>\n",
       "    <tr style=\"text-align: right;\">\n",
       "      <th></th>\n",
       "      <th>Title</th>\n",
       "      <th>Video ID</th>\n",
       "      <th>Published At</th>\n",
       "      <th>Keyword</th>\n",
       "      <th>Likes1</th>\n",
       "      <th>Comments</th>\n",
       "      <th>Views</th>\n",
       "      <th>Comment</th>\n",
       "      <th>Likes</th>\n",
       "      <th>Sentiment</th>\n",
       "    </tr>\n",
       "  </thead>\n",
       "  <tbody>\n",
       "    <tr>\n",
       "      <th>0</th>\n",
       "      <td>Apple Pay Is Killing the Physical Wallet After...</td>\n",
       "      <td>wAZZ-UWGVHI</td>\n",
       "      <td>2022-08-23</td>\n",
       "      <td>tech</td>\n",
       "      <td>3407.0</td>\n",
       "      <td>672.0</td>\n",
       "      <td>135612.0</td>\n",
       "      <td>Let's not forget that Apple Pay in 2014 requir...</td>\n",
       "      <td>95.0</td>\n",
       "      <td>1.0</td>\n",
       "    </tr>\n",
       "    <tr>\n",
       "      <th>1</th>\n",
       "      <td>Apple Pay Is Killing the Physical Wallet After...</td>\n",
       "      <td>wAZZ-UWGVHI</td>\n",
       "      <td>2022-08-23</td>\n",
       "      <td>tech</td>\n",
       "      <td>3407.0</td>\n",
       "      <td>672.0</td>\n",
       "      <td>135612.0</td>\n",
       "      <td>Here in NZ 50% of retailers don’t even have co...</td>\n",
       "      <td>19.0</td>\n",
       "      <td>0.0</td>\n",
       "    </tr>\n",
       "    <tr>\n",
       "      <th>2</th>\n",
       "      <td>Apple Pay Is Killing the Physical Wallet After...</td>\n",
       "      <td>wAZZ-UWGVHI</td>\n",
       "      <td>2022-08-23</td>\n",
       "      <td>tech</td>\n",
       "      <td>3407.0</td>\n",
       "      <td>672.0</td>\n",
       "      <td>135612.0</td>\n",
       "      <td>I will forever acknowledge this channel with t...</td>\n",
       "      <td>161.0</td>\n",
       "      <td>2.0</td>\n",
       "    </tr>\n",
       "    <tr>\n",
       "      <th>3</th>\n",
       "      <td>Apple Pay Is Killing the Physical Wallet After...</td>\n",
       "      <td>wAZZ-UWGVHI</td>\n",
       "      <td>2022-08-23</td>\n",
       "      <td>tech</td>\n",
       "      <td>3407.0</td>\n",
       "      <td>672.0</td>\n",
       "      <td>135612.0</td>\n",
       "      <td>Whenever I go to a place that doesn’t take App...</td>\n",
       "      <td>8.0</td>\n",
       "      <td>0.0</td>\n",
       "    </tr>\n",
       "    <tr>\n",
       "      <th>4</th>\n",
       "      <td>Apple Pay Is Killing the Physical Wallet After...</td>\n",
       "      <td>wAZZ-UWGVHI</td>\n",
       "      <td>2022-08-23</td>\n",
       "      <td>tech</td>\n",
       "      <td>3407.0</td>\n",
       "      <td>672.0</td>\n",
       "      <td>135612.0</td>\n",
       "      <td>Apple Pay is so convenient, secure, and easy t...</td>\n",
       "      <td>34.0</td>\n",
       "      <td>2.0</td>\n",
       "    </tr>\n",
       "    <tr>\n",
       "      <th>...</th>\n",
       "      <td>...</td>\n",
       "      <td>...</td>\n",
       "      <td>...</td>\n",
       "      <td>...</td>\n",
       "      <td>...</td>\n",
       "      <td>...</td>\n",
       "      <td>...</td>\n",
       "      <td>...</td>\n",
       "      <td>...</td>\n",
       "      <td>...</td>\n",
       "    </tr>\n",
       "    <tr>\n",
       "      <th>18640</th>\n",
       "      <td>Don&amp;#39;t learn machine learning</td>\n",
       "      <td>cyLWtMSry58</td>\n",
       "      <td>2020-03-30</td>\n",
       "      <td>machine learning</td>\n",
       "      <td>-1.0</td>\n",
       "      <td>29.0</td>\n",
       "      <td>13184.0</td>\n",
       "      <td>I really like the point about engineering tool...</td>\n",
       "      <td>0.0</td>\n",
       "      <td>2.0</td>\n",
       "    </tr>\n",
       "    <tr>\n",
       "      <th>18641</th>\n",
       "      <td>Don&amp;#39;t learn machine learning</td>\n",
       "      <td>cyLWtMSry58</td>\n",
       "      <td>2020-03-30</td>\n",
       "      <td>machine learning</td>\n",
       "      <td>-1.0</td>\n",
       "      <td>29.0</td>\n",
       "      <td>13184.0</td>\n",
       "      <td>I’ve just started exploring this field. And th...</td>\n",
       "      <td>20.0</td>\n",
       "      <td>2.0</td>\n",
       "    </tr>\n",
       "    <tr>\n",
       "      <th>18642</th>\n",
       "      <td>Don&amp;#39;t learn machine learning</td>\n",
       "      <td>cyLWtMSry58</td>\n",
       "      <td>2020-03-30</td>\n",
       "      <td>machine learning</td>\n",
       "      <td>-1.0</td>\n",
       "      <td>29.0</td>\n",
       "      <td>13184.0</td>\n",
       "      <td>Excelente video con una pregunta filosófica pr...</td>\n",
       "      <td>1.0</td>\n",
       "      <td>1.0</td>\n",
       "    </tr>\n",
       "    <tr>\n",
       "      <th>18643</th>\n",
       "      <td>Don&amp;#39;t learn machine learning</td>\n",
       "      <td>cyLWtMSry58</td>\n",
       "      <td>2020-03-30</td>\n",
       "      <td>machine learning</td>\n",
       "      <td>-1.0</td>\n",
       "      <td>29.0</td>\n",
       "      <td>13184.0</td>\n",
       "      <td>Hey Daniel, just discovered your channel a cou...</td>\n",
       "      <td>35.0</td>\n",
       "      <td>2.0</td>\n",
       "    </tr>\n",
       "    <tr>\n",
       "      <th>18644</th>\n",
       "      <td>Don&amp;#39;t learn machine learning</td>\n",
       "      <td>cyLWtMSry58</td>\n",
       "      <td>2020-03-30</td>\n",
       "      <td>machine learning</td>\n",
       "      <td>-1.0</td>\n",
       "      <td>29.0</td>\n",
       "      <td>13184.0</td>\n",
       "      <td>This is great. Focus is key. A playful approac...</td>\n",
       "      <td>0.0</td>\n",
       "      <td>2.0</td>\n",
       "    </tr>\n",
       "  </tbody>\n",
       "</table>\n",
       "<p>18645 rows × 10 columns</p>\n",
       "</div>"
      ],
      "text/plain": [
       "                                                   Title     Video ID  \\\n",
       "0      Apple Pay Is Killing the Physical Wallet After...  wAZZ-UWGVHI   \n",
       "1      Apple Pay Is Killing the Physical Wallet After...  wAZZ-UWGVHI   \n",
       "2      Apple Pay Is Killing the Physical Wallet After...  wAZZ-UWGVHI   \n",
       "3      Apple Pay Is Killing the Physical Wallet After...  wAZZ-UWGVHI   \n",
       "4      Apple Pay Is Killing the Physical Wallet After...  wAZZ-UWGVHI   \n",
       "...                                                  ...          ...   \n",
       "18640                   Don&#39;t learn machine learning  cyLWtMSry58   \n",
       "18641                   Don&#39;t learn machine learning  cyLWtMSry58   \n",
       "18642                   Don&#39;t learn machine learning  cyLWtMSry58   \n",
       "18643                   Don&#39;t learn machine learning  cyLWtMSry58   \n",
       "18644                   Don&#39;t learn machine learning  cyLWtMSry58   \n",
       "\n",
       "      Published At           Keyword  Likes1 Comments     Views  \\\n",
       "0       2022-08-23              tech  3407.0    672.0  135612.0   \n",
       "1       2022-08-23              tech  3407.0    672.0  135612.0   \n",
       "2       2022-08-23              tech  3407.0    672.0  135612.0   \n",
       "3       2022-08-23              tech  3407.0    672.0  135612.0   \n",
       "4       2022-08-23              tech  3407.0    672.0  135612.0   \n",
       "...            ...               ...     ...      ...       ...   \n",
       "18640   2020-03-30  machine learning    -1.0     29.0   13184.0   \n",
       "18641   2020-03-30  machine learning    -1.0     29.0   13184.0   \n",
       "18642   2020-03-30  machine learning    -1.0     29.0   13184.0   \n",
       "18643   2020-03-30  machine learning    -1.0     29.0   13184.0   \n",
       "18644   2020-03-30  machine learning    -1.0     29.0   13184.0   \n",
       "\n",
       "                                                 Comment  Likes  Sentiment  \n",
       "0      Let's not forget that Apple Pay in 2014 requir...   95.0        1.0  \n",
       "1      Here in NZ 50% of retailers don’t even have co...   19.0        0.0  \n",
       "2      I will forever acknowledge this channel with t...  161.0        2.0  \n",
       "3      Whenever I go to a place that doesn’t take App...    8.0        0.0  \n",
       "4      Apple Pay is so convenient, secure, and easy t...   34.0        2.0  \n",
       "...                                                  ...    ...        ...  \n",
       "18640  I really like the point about engineering tool...    0.0        2.0  \n",
       "18641  I’ve just started exploring this field. And th...   20.0        2.0  \n",
       "18642  Excelente video con una pregunta filosófica pr...    1.0        1.0  \n",
       "18643  Hey Daniel, just discovered your channel a cou...   35.0        2.0  \n",
       "18644  This is great. Focus is key. A playful approac...    0.0        2.0  \n",
       "\n",
       "[18645 rows x 10 columns]"
      ]
     },
     "execution_count": 84,
     "metadata": {},
     "output_type": "execute_result"
    }
   ],
   "source": [
    "df1"
   ]
  },
  {
   "cell_type": "code",
   "execution_count": 86,
   "id": "499e18a6",
   "metadata": {},
   "outputs": [],
   "source": [
    "from sklearn.preprocessing import LabelEncoder\n",
    "\n",
    "label_encoder = LabelEncoder()\n",
    "\n",
    "df1['Title_encoded'] = label_encoder.fit_transform(df1['Title'])\n",
    "df1['Video ID_encoded'] = label_encoder.fit_transform(df1['Video ID'])\n",
    "df1['Published At_encoded'] = label_encoder.fit_transform(df1['Published At'])\n",
    "df1['Keyword_encoded'] = label_encoder.fit_transform(df1['Keyword'])\n",
    "df1['Comments_encoded'] = label_encoder.fit_transform(df1['Comments'])\n",
    "df1['Views_encoded'] = label_encoder.fit_transform(df1['Views'])\n",
    "df1['Comment_encoded'] = label_encoder.fit_transform(df1['Comment'])\n",
    "df1['Sentiment_encoded'] = label_encoder.fit_transform(df1['Sentiment'])\n",
    "\n",
    "X = df1[['Title_encoded', 'Video ID_encoded', 'Published At_encoded', 'Keyword_encoded', 'Comments_encoded', 'Views_encoded', 'Comment_encoded', 'Sentiment_encoded']]\n",
    "y = df1['Likes1']\n"
   ]
  },
  {
   "cell_type": "code",
   "execution_count": 88,
   "id": "00f6f891",
   "metadata": {},
   "outputs": [],
   "source": [
    "X_train, X_test, y_train, y_test = train_test_split(X, y, test_size=0.2, random_state=42)"
   ]
  },
  {
   "cell_type": "code",
   "execution_count": 89,
   "id": "20abc441",
   "metadata": {},
   "outputs": [],
   "source": [
    "rf_model = RandomForestRegressor(random_state=42)"
   ]
  },
  {
   "cell_type": "code",
   "execution_count": 90,
   "id": "e46b15ea",
   "metadata": {},
   "outputs": [
    {
     "data": {
      "text/plain": [
       "RandomForestRegressor(random_state=42)"
      ]
     },
     "execution_count": 90,
     "metadata": {},
     "output_type": "execute_result"
    }
   ],
   "source": [
    "rf_model.fit(X_train, y_train)"
   ]
  },
  {
   "cell_type": "code",
   "execution_count": 91,
   "id": "e6224a78",
   "metadata": {},
   "outputs": [
    {
     "name": "stdout",
     "output_type": "stream",
     "text": [
      "Training Accuracy: 0.9999799268897432\n",
      "Testing Accuracy: 0.9999933008991798\n"
     ]
    }
   ],
   "source": [
    "rf_model.fit(X_train, y_train)\n",
    "\n",
    "# Calculate the accuracy on the training set\n",
    "train_accuracy = rf_model.score(X_train, y_train)\n",
    "print(\"Training Accuracy:\", train_accuracy)\n",
    "\n",
    "# Calculate the accuracy on the test set\n",
    "test_accuracy = rf_model.score(X_test, y_test)\n",
    "print(\"Testing Accuracy:\", test_accuracy)\n"
   ]
  },
  {
   "cell_type": "code",
   "execution_count": null,
   "id": "2d17a025",
   "metadata": {},
   "outputs": [],
   "source": []
  },
  {
   "cell_type": "code",
   "execution_count": null,
   "id": "fbbf5e45",
   "metadata": {},
   "outputs": [],
   "source": []
  },
  {
   "cell_type": "code",
   "execution_count": null,
   "id": "51f3940c",
   "metadata": {},
   "outputs": [],
   "source": []
  },
  {
   "cell_type": "code",
   "execution_count": null,
   "id": "2882ee43",
   "metadata": {},
   "outputs": [],
   "source": []
  },
  {
   "cell_type": "code",
   "execution_count": null,
   "id": "8a01cc77",
   "metadata": {},
   "outputs": [],
   "source": []
  }
 ],
 "metadata": {
  "kernelspec": {
   "display_name": "Python 3 (ipykernel)",
   "language": "python",
   "name": "python3"
  },
  "language_info": {
   "codemirror_mode": {
    "name": "ipython",
    "version": 3
   },
   "file_extension": ".py",
   "mimetype": "text/x-python",
   "name": "python",
   "nbconvert_exporter": "python",
   "pygments_lexer": "ipython3",
   "version": "3.9.13"
  }
 },
 "nbformat": 4,
 "nbformat_minor": 5
}
